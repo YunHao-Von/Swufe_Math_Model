{
 "cells": [
  {
   "cell_type": "code",
   "execution_count": 133,
   "metadata": {
    "collapsed": true
   },
   "outputs": [],
   "source": [
    "from pyecharts import options as opts\n",
    "from pyecharts.charts import Map\n",
    "from pyecharts.faker import Faker\n",
    "import pandas as pd"
   ]
  },
  {
   "cell_type": "code",
   "execution_count": 134,
   "outputs": [
    {
     "name": "stdout",
     "output_type": "stream",
     "text": [
      "[['United States', 15787144], ['India', 9796744], ['Brazil', 6781799], ['Russia', 2546113], ['France', 2393590], ['United Kingdom', 1792614], ['Italy', 1787147], ['Turkey', 1748567], ['Spain', 1720056], ['Argentina', 1482216]]\n"
     ]
    }
   ],
   "source": [
    "from pyecharts.globals import ThemeType\n",
    "Total_Injected=pd.read_excel('Q2 (1).xlsx',sheet_name='累计确诊人数')\n",
    "country_total_injected=Total_Injected['国家名'].tolist()\n",
    "Population_total_injected=Total_Injected['累计确诊数人数'].tolist()\n",
    "plot_total_injected=[]\n",
    "for i in range(len(Population_total_injected)):\n",
    "    temp=[]\n",
    "    temp.append(country_total_injected[i])\n",
    "    temp.append(Population_total_injected[i])\n",
    "    plot_total_injected.append(temp)\n",
    "print(plot_total_injected)"
   ],
   "metadata": {
    "collapsed": false,
    "pycharm": {
     "name": "#%%\n"
    }
   }
  },
  {
   "cell_type": "code",
   "execution_count": 135,
   "outputs": [],
   "source": [
    "c = (\n",
    "    Map(init_opts=opts.InitOpts(theme=ThemeType.ROMANTIC))\n",
    "    .add(\"累计确诊数\", plot_total_injected, \"world\")\n",
    "    .set_series_opts(label_opts=opts.LabelOpts(is_show=False))\n",
    "    .set_global_opts(\n",
    "        title_opts=opts.TitleOpts(title=\"2020年12月20日世界确诊人数前十分布地图\"),\n",
    "        visualmap_opts=opts.VisualMapOpts(max_=15787244),\n",
    "    )\n",
    "    .render(\"2020年12月20日世界确诊人数前十分布地图.html\")\n",
    ")"
   ],
   "metadata": {
    "collapsed": false,
    "pycharm": {
     "name": "#%%\n"
    }
   }
  },
  {
   "cell_type": "code",
   "execution_count": 136,
   "outputs": [
    {
     "name": "stdout",
     "output_type": "stream",
     "text": [
      "[['United States', 823225], ['India', 231511], ['Brazil', 53347], ['Russia', 32734], ['France', 29373], ['United Kingdom', 27562], ['Italy', 21066], ['Turkey', 16998], ['Spain', 13872], ['Argentina', 13750]]\n"
     ]
    }
   ],
   "source": [
    "from pyecharts.globals import ThemeType\n",
    "Total_Injected=pd.read_excel('Q2 (1).xlsx',sheet_name='新增确诊数人数')\n",
    "country_total_injected=Total_Injected['国家名'].tolist()\n",
    "Population_total_injected=Total_Injected['新增确诊人数'].tolist()\n",
    "plot_total_injected=[]\n",
    "for i in range(len(Population_total_injected)):\n",
    "    temp=[]\n",
    "    temp.append(country_total_injected[i])\n",
    "    temp.append(Population_total_injected[i])\n",
    "    plot_total_injected.append(temp)\n",
    "print(plot_total_injected)"
   ],
   "metadata": {
    "collapsed": false,
    "pycharm": {
     "name": "#%%\n"
    }
   }
  },
  {
   "cell_type": "code",
   "execution_count": 137,
   "outputs": [],
   "source": [
    "c = (\n",
    "    Map(init_opts=opts.InitOpts(theme=ThemeType.DARK))\n",
    "    .add(\"新增确诊数\", plot_total_injected, \"world\")\n",
    "    .set_series_opts(label_opts=opts.LabelOpts(is_show=False))\n",
    "    .set_global_opts(\n",
    "        title_opts=opts.TitleOpts(title=\"2020年12月20日世界新增确诊人数前十分布地图\"),\n",
    "        visualmap_opts=opts.VisualMapOpts(max_=823225),\n",
    "    )\n",
    "    .render(\"2020年12月20日世界新增确诊人数前十分布地图.html\")\n",
    ")"
   ],
   "metadata": {
    "collapsed": false,
    "pycharm": {
     "name": "#%%\n"
    }
   }
  },
  {
   "cell_type": "code",
   "execution_count": 138,
   "outputs": [
    {
     "name": "stdout",
     "output_type": "stream",
     "text": [
      "[['United States', 98044421], ['India', 24515213], ['United Kingdom', 14043961], ['Brazil', 12691659], ['Turkey', 8619993], ['Indonesia', 7411095], ['Russia', 7130216], ['Chile', 6576237], ['Germany', 6254723], ['France', 6103973]]\n"
     ]
    }
   ],
   "source": [
    "from pyecharts.globals import ThemeType\n",
    "Total_Injected=pd.read_excel('Q2 (1).xlsx',sheet_name='完成疫苗注射人数')\n",
    "country_total_injected=Total_Injected['国家名'].tolist()\n",
    "Population_total_injected=Total_Injected['完成疫苗注射人数'].tolist()\n",
    "plot_total_injected=[]\n",
    "for i in range(len(Population_total_injected)):\n",
    "    temp=[]\n",
    "    temp.append(country_total_injected[i])\n",
    "    temp.append(Population_total_injected[i])\n",
    "    plot_total_injected.append(temp)\n",
    "print(plot_total_injected)"
   ],
   "metadata": {
    "collapsed": false,
    "pycharm": {
     "name": "#%%\n"
    }
   }
  },
  {
   "cell_type": "code",
   "execution_count": 139,
   "outputs": [],
   "source": [
    "import pyecharts.options as opts\n",
    "from pyecharts.charts import MapGlobe\n",
    "from pyecharts.faker import POPULATION\n",
    "\n",
    "data = [x for _, x in plot_total_injected]\n",
    "low, high = min(data), max(data)\n",
    "\n",
    "c = (\n",
    "    MapGlobe(init_opts=opts.InitOpts(theme=ThemeType.ROMANTIC))\n",
    "    .add_schema()\n",
    "    .add(\n",
    "        maptype=\"world\",\n",
    "        series_name=\"World Population\",\n",
    "        data_pair=plot_total_injected,\n",
    "        is_map_symbol_show=False,\n",
    "        label_opts=opts.LabelOpts(is_show=False),\n",
    "    )\n",
    "    .set_global_opts(\n",
    "        title_opts=opts.TitleOpts(title=\"完成疫苗注射人数世界新增确诊人数前十分布地图\"),\n",
    "        visualmap_opts=opts.VisualMapOpts(max_=98044421),\n",
    "    )\n",
    "    .render(\"完成疫苗注射人数世界新增确诊人数前十分布地图.html\")\n",
    ")"
   ],
   "metadata": {
    "collapsed": false,
    "pycharm": {
     "name": "#%%\n"
    }
   }
  },
  {
   "cell_type": "code",
   "execution_count": 140,
   "outputs": [
    {
     "name": "stdout",
     "output_type": "stream",
     "text": [
      "[['United States', 296100], ['Brazil', 179765], ['India', 142185], ['Mexico', 112326], ['United Kingdom', 63179], ['Italy', 62626], ['France', 57044], ['Iran', 51496], ['Spain', 47344], ['Russia', 44769]]\n"
     ]
    }
   ],
   "source": [
    "from pyecharts.globals import ThemeType\n",
    "Total_Injected=pd.read_excel('Q2 (1).xlsx',sheet_name='累计死亡人数')\n",
    "country_total_injected=Total_Injected['国家名'].tolist()\n",
    "Population_total_injected=Total_Injected['累计死亡人数'].tolist()\n",
    "plot_total_injected=[]\n",
    "for i in range(len(Population_total_injected)):\n",
    "    temp=[]\n",
    "    temp.append(country_total_injected[i])\n",
    "    temp.append(Population_total_injected[i])\n",
    "    plot_total_injected.append(temp)\n",
    "print(plot_total_injected)"
   ],
   "metadata": {
    "collapsed": false,
    "pycharm": {
     "name": "#%%\n"
    }
   }
  },
  {
   "cell_type": "code",
   "execution_count": 141,
   "outputs": [],
   "source": [
    "c = (\n",
    "    Map(init_opts=opts.InitOpts(theme=ThemeType.PURPLE_PASSION))\n",
    "    .add(\"累计死亡人数\", plot_total_injected, \"world\")\n",
    "    .set_series_opts(label_opts=opts.LabelOpts(is_show=False))\n",
    "    .set_global_opts(\n",
    "        title_opts=opts.TitleOpts(title=\"累计死亡人数世界前十分布地图\"),\n",
    "        visualmap_opts=opts.VisualMapOpts(max_=296100),\n",
    "    )\n",
    "    .render(\"累计死亡人数世界前十分布地图.html\")\n",
    ")"
   ],
   "metadata": {
    "collapsed": false,
    "pycharm": {
     "name": "#%%\n"
    }
   }
  },
  {
   "cell_type": "code",
   "execution_count": 142,
   "outputs": [
    {
     "name": "stdout",
     "output_type": "stream",
     "text": [
      "[['Yemen', 0.291206151], ['Mexico', 0.092287898], ['Ecuador', 0.069119019], ['Sudan', 0.063279601], ['Bolivia', 0.06153636], ['Chad', 0.058654399], ['Egypt', 0.057046784], ['Syria', 0.054170934], ['China', 0.050497208], ['Liberia', 0.049522673]]\n"
     ]
    }
   ],
   "source": [
    "from pyecharts.globals import ThemeType\n",
    "Total_Injected=pd.read_excel('Q2 (1).xlsx',sheet_name='病死率')\n",
    "country_total_injected=Total_Injected['国家名'].tolist()\n",
    "Population_total_injected=Total_Injected['病死率'].tolist()\n",
    "plot_total_injected=[]\n",
    "for i in range(len(Population_total_injected)):\n",
    "    temp=[]\n",
    "    temp.append(country_total_injected[i])\n",
    "    temp.append(Population_total_injected[i])\n",
    "    plot_total_injected.append(temp)\n",
    "print(plot_total_injected)"
   ],
   "metadata": {
    "collapsed": false,
    "pycharm": {
     "name": "#%%\n"
    }
   }
  },
  {
   "cell_type": "code",
   "execution_count": 143,
   "outputs": [],
   "source": [
    "c = (\n",
    "    Map(init_opts=opts.InitOpts(theme=ThemeType.ROMA))\n",
    "    .add(\"病死率\", plot_total_injected, \"world\")\n",
    "    .set_series_opts(label_opts=opts.LabelOpts(is_show=False))\n",
    "    .set_global_opts(\n",
    "        title_opts=opts.TitleOpts(title=\"病死率世界前十分布地图\"),\n",
    "        visualmap_opts=opts.VisualMapOpts(max_=0.291206151),\n",
    "    )\n",
    "    .render(\"病死率世界前十分布地图.html\")\n",
    ")"
   ],
   "metadata": {
    "collapsed": false,
    "pycharm": {
     "name": "#%%\n"
    }
   }
  }
 ],
 "metadata": {
  "kernelspec": {
   "display_name": "Python 3",
   "language": "python",
   "name": "python3"
  },
  "language_info": {
   "codemirror_mode": {
    "name": "ipython",
    "version": 2
   },
   "file_extension": ".py",
   "mimetype": "text/x-python",
   "name": "python",
   "nbconvert_exporter": "python",
   "pygments_lexer": "ipython2",
   "version": "2.7.6"
  }
 },
 "nbformat": 4,
 "nbformat_minor": 0
}